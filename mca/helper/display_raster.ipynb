{
 "cells": [
  {
   "cell_type": "markdown",
   "id": "2d738a2d",
   "metadata": {},
   "source": [
    "# Display rasters "
   ]
  },
  {
   "cell_type": "code",
   "execution_count": null,
   "id": "6d71e9ec",
   "metadata": {},
   "outputs": [],
   "source": [
    "import folium\n",
    "import os\n",
    "import numpy as np\n",
    "import rasterio\n",
    "import tempfile\n",
    "\n",
    "from matplotlib import pyplot as plt\n",
    "from PIL import Image\n",
    "from rasterio.plot import reshape_as_image\n",
    "from rasterio.enums import Resampling\n"
   ]
  },
  {
   "cell_type": "code",
   "execution_count": 2,
   "id": "91290506",
   "metadata": {},
   "outputs": [
    {
     "name": "stdout",
     "output_type": "stream",
     "text": [
      "prepared_segments.gpkg\n",
      "segment_popularity_athletes_per_age.tif\n",
      "segment_popularity_stars_per_age.tif\n",
      "segment_popularity_stars_per_athlete.tif\n"
     ]
    }
   ],
   "source": [
    "!ls ../output_mca_20250419_1215/"
   ]
  },
  {
   "cell_type": "code",
   "execution_count": 26,
   "id": "43f6479c",
   "metadata": {},
   "outputs": [
    {
     "name": "stdout",
     "output_type": "stream",
     "text": [
      "CRS: EPSG:32633\n",
      "Bounds: BoundingBox(left=244948.59540795124, bottom=6634586.930954419, right=275223.5954079513, top=6661736.930954419)\n",
      "Width x Height: 1211 x 1086\n",
      "Number of Bands: 1\n"
     ]
    }
   ],
   "source": [
    "output_dir = os.path.join(\"..\", \"output_mca_20250419_1215\")\n",
    "raster_file = \"segment_popularity_stars_per_athlete.tif\"  \n",
    "raster_path = os.path.join(output_dir, raster_file)\n",
    "\n",
    "if not os.path.exists(raster_path):\n",
    "    raise FileNotFoundError(f\"Raster file {raster_path} does not exist.\")\n",
    "\n",
    "with rasterio.open(raster_path) as src:\n",
    "    src_crs = rasterio.crs.CRS.from_epsg(32633) # to be used in projection later\n",
    "    print(\"CRS:\", src_crs)\n",
    "    \n",
    "    print(\"Bounds:\", src.bounds)\n",
    "    print(\"Width x Height:\", src.width, \"x\", src.height)\n",
    "    print(\"Number of Bands:\", src.count)\n",
    "    \n",
    "    raster_data = src.read(\n",
    "        out_shape=(src.count, 512, 512),  # Downsample if needed\n",
    "        resampling=Resampling.bilinear\n",
    "    )\n",
    "    raster_meta = src.meta\n",
    "    raster_bounds = src.bounds\n",
    "    raster_transform = src.transform"
   ]
  },
  {
   "cell_type": "code",
   "execution_count": 27,
   "id": "874a5aab",
   "metadata": {},
   "outputs": [],
   "source": [
    "# only needed if multiband\n",
    "if raster_data.shape[0] >= 3:\n",
    "    image = reshape_as_image(raster_data[:3, :, :])\n",
    "else:\n",
    "    image = raster_data[0, :, :]  # Single-band"
   ]
  },
  {
   "cell_type": "code",
   "execution_count": 28,
   "id": "5cfc56c6",
   "metadata": {},
   "outputs": [
    {
     "data": {
      "image/png": "[encoded data removed]",
      "text/plain": [
       "<Figure size 400x400 with 1 Axes>"
      ]
     },
     "metadata": {},
     "output_type": "display_data"
    }
   ],
   "source": [
    "plt.figure(figsize=(4,4))\n",
    "if image.ndim == 3:\n",
    "    plt.imshow(image)\n",
    "else:\n",
    "    plt.imshow(image, cmap=\"gray\")\n",
    "plt.title(\"Raster Preview\")\n",
    "plt.axis(\"off\")\n",
    "plt.show()"
   ]
  },
  {
   "cell_type": "code",
   "execution_count": 29,
   "id": "d17d33ee",
   "metadata": {},
   "outputs": [],
   "source": [
    "# Normalize image for display\n",
    "def normalize(arr):\n",
    "    arr_min, arr_max = np.percentile(arr, (2, 98))\n",
    "    return np.clip((arr - arr_min) / (arr_max - arr_min), 0, 1)\n",
    "\n",
    "if image.ndim == 3:\n",
    "    img_norm = normalize(image.astype(float) / 255)\n",
    "else:\n",
    "    img_norm = normalize(image)\n",
    "\n",
    "img_uint8 = (img_norm * 255).astype(np.uint8)\n",
    "\n",
    "# needed to display in folium\n",
    "tmp_img_file = tempfile.NamedTemporaryFile(suffix=\".png\", delete=False)\n",
    "if img_uint8.ndim == 2:\n",
    "    img_uint8 = np.stack([img_uint8]*3, axis=-1)  # convert grayscale to RGB\n",
    "\n",
    "Image.fromarray(img_uint8).save(tmp_img_file.name)"
   ]
  },
  {
   "cell_type": "code",
   "execution_count": 30,
   "id": "1124853f",
   "metadata": {},
   "outputs": [
    {
     "data": {
      "text/plain": [
       "(10.42306602303807, 59.77040706819598, 10.994127089444795, 60.031107159867766)"
      ]
     },
     "execution_count": 30,
     "metadata": {},
     "output_type": "execute_result"
    }
   ],
   "source": [
    "# Extract bounds in lat/lon (assuming CRS is already in EPSG:4326)\n",
    "if raster_meta['crs'] != 'EPSG:4326':\n",
    "    from rasterio.warp import transform_bounds\n",
    "    # bounds_latlon = transform_bounds(raster_meta['crs'], 'EPSG:4326', *raster_bounds)\n",
    "    bounds_latlon = transform_bounds(src_crs, 'EPSG:4326', *raster_bounds)\n",
    "else:\n",
    "    bounds_latlon = raster_bounds\n",
    "\n",
    "bounds_latlon"
   ]
  },
  {
   "cell_type": "code",
   "execution_count": 31,
   "id": "10688ca7",
   "metadata": {},
   "outputs": [
    {
     "data": {
      "text/html": [
       "<div style=\"width:100%;\"><div style=\"position:relative;width:100%;height:0;padding-bottom:60%;\"><span style=\"color:#565656\">Make this Notebook Trusted to load map: File -> Trust Notebook</span><iframe srcdoc=\"&lt;!DOCTYPE html&gt;\n",
       "&lt;html&gt;\n",
       "&lt;head&gt;\n",
       "    \n",
       "    &lt;meta http-equiv=&quot;content-type&quot; content=&quot;text/html; charset=UTF-8&quot; /&gt;\n",
       "    \n",
       "        &lt;script&gt;\n",
       "            L_NO_TOUCH = false;\n",
       "            L_DISABLE_3D = false;\n",
       "        &lt;/script&gt;\n",
       "    \n",
       "    &lt;style&gt;html, body {width: 100%;height: 100%;margin: 0;padding: 0;}&lt;/style&gt;\n",
       "    &lt;style&gt;#map {position:absolute;top:0;bottom:0;right:0;left:0;}&lt;/style&gt;\n",
       "    &lt;script src=&quot;https://cdn.jsdelivr.net/npm/leaflet@1.9.3/dist/leaflet.js&quot;&gt;&lt;/script&gt;\n",
       "    &lt;script src=&quot;https://code.jquery.com/jquery-3.7.1.min.js&quot;&gt;&lt;/script&gt;\n",
       "    &lt;script src=&quot;https://cdn.jsdelivr.net/npm/bootstrap@5.2.2/dist/js/bootstrap.bundle.min.js&quot;&gt;&lt;/script&gt;\n",
       "    &lt;script src=&quot;https://cdnjs.cloudflare.com/ajax/libs/Leaflet.awesome-markers/2.0.2/leaflet.awesome-markers.js&quot;&gt;&lt;/script&gt;\n",
       "    &lt;link rel=&quot;stylesheet&quot; href=&quot;https://cdn.jsdelivr.net/npm/leaflet@1.9.3/dist/leaflet.css&quot;/&gt;\n",
       "    &lt;link rel=&quot;stylesheet&quot; href=&quot;https://cdn.jsdelivr.net/npm/bootstrap@5.2.2/dist/css/bootstrap.min.css&quot;/&gt;\n",
       "    &lt;link rel=&quot;stylesheet&quot; href=&quot;https://netdna.bootstrapcdn.com/bootstrap/3.0.0/css/bootstrap-glyphicons.css&quot;/&gt;\n",
       "    &lt;link rel=&quot;stylesheet&quot; href=&quot;https://cdn.jsdelivr.net/npm/@fortawesome/fontawesome-free@6.2.0/css/all.min.css&quot;/&gt;\n",
       "    &lt;link rel=&quot;stylesheet&quot; href=&quot;https://cdnjs.cloudflare.com/ajax/libs/Leaflet.awesome-markers/2.0.2/leaflet.awesome-markers.css&quot;/&gt;\n",
       "    &lt;link rel=&quot;stylesheet&quot; href=&quot;https://cdn.jsdelivr.net/gh/python-visualization/folium/folium/templates/leaflet.awesome.rotate.min.css&quot;/&gt;\n",
       "    \n",
       "            &lt;meta name=&quot;viewport&quot; content=&quot;width=device-width,\n",
       "                initial-scale=1.0, maximum-scale=1.0, user-scalable=no&quot; /&gt;\n",
       "            &lt;style&gt;\n",
       "                #map_215af9b2cc0d722eb192d07cce16b067 {\n",
       "                    position: relative;\n",
       "                    width: 100.0%;\n",
       "                    height: 100.0%;\n",
       "                    left: 0.0%;\n",
       "                    top: 0.0%;\n",
       "                }\n",
       "                .leaflet-container { font-size: 1rem; }\n",
       "            &lt;/style&gt;\n",
       "        \n",
       "    \n",
       "                &lt;style&gt;\n",
       "                    .leaflet-image-layer {\n",
       "                        /* old android/safari*/\n",
       "                        image-rendering: -webkit-optimize-contrast;\n",
       "                        image-rendering: crisp-edges; /* safari */\n",
       "                        image-rendering: pixelated; /* chrome */\n",
       "                        image-rendering: -moz-crisp-edges; /* firefox */\n",
       "                        image-rendering: -o-crisp-edges; /* opera */\n",
       "                        -ms-interpolation-mode: nearest-neighbor; /* ie */\n",
       "                    }\n",
       "                &lt;/style&gt;\n",
       "            \n",
       "&lt;/head&gt;\n",
       "&lt;body&gt;\n",
       "    \n",
       "    \n",
       "            &lt;div class=&quot;folium-map&quot; id=&quot;map_215af9b2cc0d722eb192d07cce16b067&quot; &gt;&lt;/div&gt;\n",
       "        \n",
       "&lt;/body&gt;\n",
       "&lt;script&gt;\n",
       "    \n",
       "    \n",
       "            var map_215af9b2cc0d722eb192d07cce16b067 = L.map(\n",
       "                &quot;map_215af9b2cc0d722eb192d07cce16b067&quot;,\n",
       "                {\n",
       "                    center: [59.900757114031876, 10.708596556241432],\n",
       "                    crs: L.CRS.EPSG3857,\n",
       "                    ...{\n",
       "  &quot;zoom&quot;: 8,\n",
       "  &quot;zoomControl&quot;: true,\n",
       "  &quot;preferCanvas&quot;: false,\n",
       "}\n",
       "\n",
       "                }\n",
       "            );\n",
       "\n",
       "            \n",
       "\n",
       "        \n",
       "    \n",
       "            var tile_layer_c00643f87e422338977559463f2ae4fc = L.tileLayer(\n",
       "                &quot;https://tile.openstreetmap.org/{z}/{x}/{y}.png&quot;,\n",
       "                {\n",
       "  &quot;minZoom&quot;: 0,\n",
       "  &quot;maxZoom&quot;: 19,\n",
       "  &quot;maxNativeZoom&quot;: 19,\n",
       "  &quot;noWrap&quot;: false,\n",
       "  &quot;attribution&quot;: &quot;\\u0026copy; \\u003ca href=\\&quot;https://www.openstreetmap.org/copyright\\&quot;\\u003eOpenStreetMap\\u003c/a\\u003e contributors&quot;,\n",
       "  &quot;subdomains&quot;: &quot;abc&quot;,\n",
       "  &quot;detectRetina&quot;: false,\n",
       "  &quot;tms&quot;: false,\n",
       "  &quot;opacity&quot;: 1,\n",
       "}\n",
       "\n",
       "            );\n",
       "        \n",
       "    \n",
       "            tile_layer_c00643f87e422338977559463f2ae4fc.addTo(map_215af9b2cc0d722eb192d07cce16b067);\n",
       "        \n",
       "    \n",
       "            var image_overlay_569737e48e616314da8fcd7edf3f745b = L.imageOverlay(\n",
       "                &quot;data:image/png;base64,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&quot;,\n",
       "                [[59.77040706819598, 10.42306602303807], [60.031107159867766, 10.994127089444795]],\n",
       "                {\n",
       "  &quot;opacity&quot;: 0.6,\n",
       "  &quot;interactive&quot;: true,\n",
       "  &quot;crossOrigin&quot;: false,\n",
       "  &quot;zindex&quot;: 1,\n",
       "}\n",
       "            );\n",
       "        \n",
       "    \n",
       "            image_overlay_569737e48e616314da8fcd7edf3f745b.addTo(map_215af9b2cc0d722eb192d07cce16b067);\n",
       "        \n",
       "    \n",
       "            var layer_control_e443411c177dd25a49c1d203b3240aaa_layers = {\n",
       "                base_layers : {\n",
       "                    &quot;openstreetmap&quot; : tile_layer_c00643f87e422338977559463f2ae4fc,\n",
       "                },\n",
       "                overlays :  {\n",
       "                    &quot;Raster Overlay&quot; : image_overlay_569737e48e616314da8fcd7edf3f745b,\n",
       "                },\n",
       "            };\n",
       "            let layer_control_e443411c177dd25a49c1d203b3240aaa = L.control.layers(\n",
       "                layer_control_e443411c177dd25a49c1d203b3240aaa_layers.base_layers,\n",
       "                layer_control_e443411c177dd25a49c1d203b3240aaa_layers.overlays,\n",
       "                {\n",
       "  &quot;position&quot;: &quot;topright&quot;,\n",
       "  &quot;collapsed&quot;: true,\n",
       "  &quot;autoZIndex&quot;: true,\n",
       "}\n",
       "            ).addTo(map_215af9b2cc0d722eb192d07cce16b067);\n",
       "\n",
       "        \n",
       "&lt;/script&gt;\n",
       "&lt;/html&gt;\" style=\"position:absolute;width:100%;height:100%;left:0;top:0;border:none !important;\" allowfullscreen webkitallowfullscreen mozallowfullscreen></iframe></div></div>"
      ],
      "text/plain": [
       "<folium.folium.Map at 0x124f1d990>"
      ]
     },
     "execution_count": 31,
     "metadata": {},
     "output_type": "execute_result"
    }
   ],
   "source": [
    "west, south, east, north = bounds_latlon\n",
    "\n",
    "m = folium.Map(location=[(south+north)/2, (west+east)/2], zoom_start=8)\n",
    "folium.raster_layers.ImageOverlay(\n",
    "    name=\"Raster Overlay\",\n",
    "    image=tmp_img_file.name,\n",
    "    bounds=[[south, west], [north, east]],\n",
    "    opacity=0.6,\n",
    "    interactive=True,\n",
    "    cross_origin=False,\n",
    "    zindex=1,\n",
    ").add_to(m)\n",
    "\n",
    "folium.LayerControl().add_to(m)\n",
    "m"
   ]
  },
  {
   "cell_type": "code",
   "execution_count": null,
   "id": "a1e1b1fa",
   "metadata": {},
   "outputs": [],
   "source": []
  }
 ],
 "metadata": {
  "kernelspec": {
   "display_name": "geo4460",
   "language": "python",
   "name": "python3"
  },
  "language_info": {
   "codemirror_mode": {
    "name": "ipython",
    "version": 3
   },
   "file_extension": ".py",
   "mimetype": "text/x-python",
   "name": "python",
   "nbconvert_exporter": "python",
   "pygments_lexer": "ipython3",
   "version": "3.11.11"
  }
 },
 "nbformat": 4,
 "nbformat_minor": 5
}
