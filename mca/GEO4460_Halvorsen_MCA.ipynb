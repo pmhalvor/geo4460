{
 "cells": [
  {
   "cell_type": "markdown",
   "metadata": {},
   "source": [
    "<!-- # Title here {-} -->"
   ]
  },
  {
   "cell_type": "markdown",
   "metadata": {},
   "source": [
    "Per Halvorsen   \\\n",
    "[pmhalvor@uio.no](mailto:pmhalvor@uio.no) \\\n",
    "GEO4460         "
   ]
  },
  {
   "cell_type": "markdown",
   "metadata": {},
   "source": [
    "# Introduction\n",
    "\n",
    "__*Can we use publicly available data to improve cycling conditions routes around Oslo?*__\n",
    "\n",
    "The goal of this project was to produce a multi-criteria analysis to find potentially dangerous cycling routes around Oslo. \n",
    "To do so, we used handful of important [criteria](#criteria) to consider when planning future cycling routes, including route popularity, traffic, and typical cycling speed.\n",
    "\n",
    "This multi-criteria analysis was possible thanks to publicly available data sources like the Strava API, Kartverket's [N50](https://www.kartverket.no/en/for-professionals/geodata/n50/) dataset, and Statens Vegvesenet's [Traffic Data Portal](https://trafikkdata.atlas.vegvesen.no/#/om-trafikkdata).\n",
    "\n",
    "For reproducibility purposes, the majority of this project was developed as a Python workflow using Whitebox Tools, Rasterio, and Geopandas.\n",
    "The code is available on GitHub at [pmhalvor/geo4460/mca](https://github.com/pmhalvor/geo4460/tree/main/mca).\n",
    "\n",
    "\n",
    "**NOTE**: In this initial draft, I've kept all sections as bullet points for now. This was a temporary decision, to easier see which parts are neccessary for the final product, and which should parts could be cut (since we are already at roughly 12 pages). "
   ]
  },
  {
   "cell_type": "markdown",
   "metadata": {},
   "source": [
    "# Data"
   ]
  },
  {
   "cell_type": "markdown",
   "metadata": {},
   "source": [
    "Data sources: \n",
    "\n",
    "- [Strava API](https://developers.strava.com/docs/getting-started/)\n",
    "    - [Segments](https://developers.strava.com/docs/reference/#api-Segments)\n",
    "    - [Activities](https://developers.strava.com/docs/reference/#api-Activities-getActivity)\n",
    "- [Statens Vegvesen Traffic Data](https://trafikkdata.atlas.vegvesen.no/#/om-trafikkdata)\n",
    "- [Kartverkets N50](https://kartkatalog.geonorge.no/metadata/n50-kartdata/ea192681-d039-42ec-b1bc-f3ce04c189ac)\n",
    "- [Sykkel ruter i Oslo (Oslo Kommune)](https://www.google.com/maps/d/viewer?mid=1oO7FZepl8zXxKmx22yV91LUd1KZgYkU_&ll=59.92348788725151%2C10.730553549999948&z=11)"
   ]
  },
  {
   "cell_type": "markdown",
   "metadata": {},
   "source": [
    "# Method"
   ]
  },
  {
   "cell_type": "markdown",
   "metadata": {},
   "source": [
    "## General Development\n"
   ]
  },
  {
   "cell_type": "markdown",
   "metadata": {},
   "source": [
    "### Development environment\n",
    "- Chose to write everything in Python for quicker reproducibility.\n",
    "- Cross checked feature layers in ArcGIS Pro to verfiy results. \n",
    "- Leveraged Dask for parallel processing of independent feature layer generations.\n",
    "\n",
    "### Data processing\n",
    "- Data came in many formats:\n",
    "    - Strava: JSON w/ polylines (Google Polyline Encoder)\n",
    "    - Statens Vegvesen: CSV w/ coordinates\n",
    "    - Kartverket: Geo-Database\n",
    "- Data was converted to GeoDataFrames using Geopandas for querying (join, intersect, filter, etc.)\n",
    "- Feature layers saved to vectors, raster, and shapefiles for downstream use\n",
    "\n",
    "### Verification\n",
    "- Each feature layer can be run on its own to verify results, with outputs:\n",
    "    - Relevant layer file (`.gpkg`, `.tif`, or`.shp`)\n",
    "    - A folium-map visualization of the layer (as an `.html` file)\n",
    "- Final and intermediate layers loaded into ArcGIS Pro to during development to visually inspect for artifacts and errors.\n",
    "- Raster layers were also evaluated with RMSE against train-test-split data to ensure generalizability."
   ]
  },
  {
   "cell_type": "markdown",
   "metadata": {},
   "source": [
    "## Feature Layers"
   ]
  },
  {
   "cell_type": "markdown",
   "metadata": {},
   "source": [
    "### Strava Segments"
   ]
  },
  {
   "cell_type": "markdown",
   "metadata": {},
   "source": [
    "\n",
    "- Strava segments were found based on a few methods for generating interesting geo-points:\n",
    "    - __explore__: \n",
    "        - Manually define coordinates for specific locations around Oslo\n",
    "        - Convert coordinates to points\n",
    "    - __segments from simple road diff__: \n",
    "        - Build layer with road segments missing bike lanes (from Road feature) \n",
    "        - Convert segments to randomly sampled points \n",
    "    - __segments from activity diff__:\n",
    "        - Find activities with sections not currently represented by downloaded segments\n",
    "        - Convert segments to randomly sampled points\n",
    "- For each set of points above, segments from the Strava API were downloaded by the following steps:\n",
    "    - Build bounding boxes of sizes 2km, 5km, and 10km around each point\n",
    "    - Send boxes into the explore segmetns API endpoint\n",
    "    - Store the segments returned (max 10 per request), filtering to only include rides\n",
    "- Segments, along with their details like effort count, star count, athlete count, and encoded polylines, were saved to a GeoDataFrame\n",
    "- Polylines were decoded using the Google Polyline Decoder and added to the GeoDataFrame\n",
    "- The following popularity metrics weer defined for each segment:\n",
    "    - __effort count / age__: number of times the segment was ridden relative to when it was created\n",
    "    - __star count / age__: number of times the segment was starred relative to when it was created\n",
    "    - __athlete count /age__: number of unique athletes who have ridden the segment relative to when it was created\n",
    "- A layer (gdf) was created for each metric, with the metric value as an attribute to each segment in the layer\n",
    "- Rasters were visually verified using folium maps and ArcGIS Pro\n",
    "- The layers were saved to a GeoPackage for downstream use \n"
   ]
  },
  {
   "cell_type": "markdown",
   "metadata": {},
   "source": [
    "\n",
    "### Average Speed Heatmap"
   ]
  },
  {
   "cell_type": "markdown",
   "metadata": {},
   "source": [
    "\n",
    "- Personal activities of type `ride` were downloaded from Strava, stored as json, containing:\n",
    "    - Activity ID\n",
    "    - Start time\n",
    "    - End time\n",
    "    - Distance\n",
    "    - Polyline (encoded)\n",
    "- Activities details were then fetched to get average speeds per split (per 1 kilometer)\n",
    "- Polylines were decoded using the Google Polyline Decoder, then converted to randomly sampled points, preserving their speed information\n",
    "- The points were then converted to a raster layer using Inverse Distance Weighting (IDW), with parameters configurable from config.py\n",
    "- Coordinate system had to be manually set and reprojected to EPSG:4326 to align with visualization method\n",
    "- Results visually verified using Folium maps\n",
    "- Paths to raster passed on to next steps \n"
   ]
  },
  {
   "cell_type": "markdown",
   "metadata": {},
   "source": [
    "### Roads"
   ]
  },
  {
   "cell_type": "markdown",
   "metadata": {},
   "source": [
    "- N50 data for Oslo region downloaded from GeoNorge as GeoDatabase\n",
    "- Road layer (samferdsel) was loaded as a GeoDataFrame\n",
    "- Bike lanes filtered and stored as separate layer\n",
    "- Difference between all roads and bike lanes was calculated and stored \n",
    "- Difference between simple roads and bike lanes was calculated and stored \n",
    "- Paths to layers passed on to next steps"
   ]
  },
  {
   "cell_type": "markdown",
   "metadata": {},
   "source": [
    "### Traffic"
   ]
  },
  {
   "cell_type": "markdown",
   "metadata": {},
   "source": [
    "- All car stations in Oslo selected from the Traffikkdata Portalen\n",
    "- Hourly data for the month of May 2024 was downloaded as a csv\n",
    "- Station coordinates downloaded separately as a json, with columns:\n",
    "    - id\n",
    "    - name\n",
    "    - location: coordinates: lat/lon\n",
    "- Traffic data loaded extracting the relevant columns \n",
    "    - Trafikkregistreringspunkt -> \"station_id\"\n",
    "    - Dato -> \"date_str\"\n",
    "    - Fra -> \"time_str\"\n",
    "    - Fra -> \"datetime_str\"\n",
    "    - Trafikkmengde -> \"volume\"\n",
    "- Station coordinates were loaded with lan/lon converted to points, and merged with the traffic data\n",
    "- Data then grouped by time of day:\n",
    "    - morning: 00-08\n",
    "    - daytime: 08-16\n",
    "    - evening: 16-24\n",
    "- An IDW raster was genereated for each time of day, with parameters configurable from config.py\n",
    "- Coordinate system had to be manually set and reprojected to EPSG:4326 to align with visualization method\n",
    "- Raster masked to only include Oslo region (using a unioned layer of all N50 land covers)\n",
    "- Results visually verified using folium\n",
    "- Paths to raster passed on to next steps"
   ]
  },
  {
   "cell_type": "markdown",
   "metadata": {},
   "source": [
    "### Elevation / Slope"
   ]
  },
  {
   "cell_type": "markdown",
   "metadata": {},
   "source": [
    "- Same N50 data for Oslo region contained contour lines \n",
    "- Contour lines were loaded as a GeoDataFrame\n",
    "- Lines converted to points for interpolation\n",
    "- points split into train/test sets\n",
    "- An elevation DEM was generated using with following interpolation methods and their parameters configurable from config.py:\n",
    "    - IDW\n",
    "    - Natural Neighbors\n",
    "    - Triangulated Irregular Network (TIN) gridding\n",
    "- The DEM was then used to generate a slope raster layer\n",
    "- Coordinate system had to be manually set and reprojected to EPSG:4326 to align with visualization method (double check)\n",
    "- Raster masked to only include Oslo region (using a unioned layer of all N50 land covers)\n",
    "- RSME was calculated on train/test data helping choose best interpolation method\n",
    "- Results visually verified using Folium maps\n",
    "- Paths to raster passed on to next steps\n"
   ]
  },
  {
   "cell_type": "markdown",
   "metadata": {},
   "source": [
    "### Cost "
   ]
  },
  {
   "cell_type": "markdown",
   "metadata": {},
   "source": [
    "- Combine slope, speed, and roads to generate a cost layer\n",
    "- Weights decided based on the following:\n",
    "    - Slope: 0.5\n",
    "    - Speed: 0.5 (speeds higher that 21.8 km/h were given negative weights as reward, \"easier\" to ride)\n",
    "- Roads used as a binary mask. Non-roads got impossibly high cost (max value)\n",
    "- Cost layer was generated using IDW interpolation with parameters configurable from config.py\n",
    "- Coordinate system had to be manually set and reprojected to EPSG:4326 to align with visualization method (double check)\n",
    "- Raster masked to only include Oslo region (using a unioned layer of all N50 land covers)\n",
    "- Results visually verified using Folium maps\n",
    "- Paths to raster passed on to next steps"
   ]
  },
  {
   "cell_type": "markdown",
   "metadata": {},
   "source": [
    "## Overlays"
   ]
  },
  {
   "cell_type": "markdown",
   "metadata": {},
   "source": [
    "- Relevant feature layers combined as part of the multi-criteria analysis\n",
    "- Each layer was reprojected to the same coordinate system (EPSG:4326)\n",
    "- Each layer was reprojected to the same resolution (10m) (TODO! Could be problem with cost.) \n",
    "\n",
    "### Diagram \n",
    "![workflow_diagram](img/workflow_diagram.png)\n",
    "\n",
    "**Figure 1:** Workflow diagram showing the steps taken to generate the final cost layer.\n",
    "\n",
    "\n",
    "### Steps: \n",
    "\n",
    "**A.** Popular segments on roads missing bike lanes\n",
    "\n",
    "**B.** Overlay A w/ high speeds\n",
    "\n",
    "**C.** Overlay B w/ traffic data (daytime)\n",
    "\n",
    "**D.** Overlay C w/ cost \n",
    "\n",
    "Final output is a GeoDataFrame with segments that:\n",
    "\n",
    "- Are on roads missing bike lanes\n",
    "- Are popular (effort count, star count, athlete count)\n",
    "- Have high average speeds\n",
    "- Have high traffic volumes\n",
    "- Have low cost (easy to ride)\n",
    "\n",
    "### Weighting\n",
    "<!-- TODO: Not yet impleneted in final ranking -->\n",
    "Final ranking of segments required weighting of each layer based on their importance to the final output. \n",
    "The following weights were proposed during development:\n",
    "\n",
    "- Popularity: 0.60\n",
    "- Speed: 0.25\n",
    "- Traffic: 0.20\n",
    "- Cost: 0.05\n",
    "\n",
    "Popularity gets the highest weight as it highlights the most ridden segments, i.e. more people would benefit from bike lanes here. \n",
    "Speed gets the second highest weight as it is a good indicator of potentially dangerous roads, where cyclists have to share the road with cars.\n",
    "Traffic was assumed to also be a good indicator of dangerous roads, but we realized through development that relative traffic is hard to calculate, especially when some traffic stations are along the highway (with high volumes) and others are on smaller streets within the city center. \n",
    "Cost was considered the least important as we were not able to properly tune the thresholds to filter out a significant number of segments. Also, when planning new bike lanes, especially in a hilly city like Oslo, focusing too much on cost (measuring effort exerted by cyclists) would likely skew results to only building bike lanes on the flat areas of the city (less practical for communters)."
   ]
  },
  {
   "cell_type": "markdown",
   "metadata": {},
   "source": [
    "# Results"
   ]
  },
  {
   "cell_type": "markdown",
   "metadata": {},
   "source": [
    "## Feature Layers \n"
   ]
  },
  {
   "cell_type": "markdown",
   "metadata": {},
   "source": [
    "### Strava Segments"
   ]
  },
  {
   "cell_type": "markdown",
   "metadata": {},
   "source": [
    "![results_segments](img/results_segments.png)\n",
    "\n",
    "**Figure 2:** Strava segments with popularity metrics (efforts per age, athlete per age, star per age, stars per athlete) overlaid on the Oslo region. The segments are color-coded based on their respective metric values, blue being low and yellow being high. For a larger view, view the raw html file here: [segment_popularity_multi_layer_map.html](https://rawcdn.githack.com/pmhalvor/geo4460/refs/heads/master/mca/output/mca_20250423_1324_segments/segment_popularity_vector_efforts_per_age.html) (TODO: update after merge)"
   ]
  },
  {
   "cell_type": "markdown",
   "metadata": {},
   "source": [
    "We decided to use the `efforts_per_age` as our default popularity metric. \n",
    "That layer gave the most variable metric values, providing us with the most informative perspective of the segments we are looking at. \n",
    "\n",
    "In both of the `stars_per_*` layers, we see there is one segment in Vettakollen that has many stars relative to the amount of athletes and years its been present in Strava. \n",
    "This must be a part of some race around Nordmarka that was newly created, meaning many athletes recently transversed it after it was created. It's high value skews the rest of the segments, making everything else seem very unpopular. \n",
    "\n"
   ]
  },
  {
   "cell_type": "markdown",
   "metadata": {},
   "source": [
    "### Average Speed Heatmap "
   ]
  },
  {
   "cell_type": "markdown",
   "metadata": {},
   "source": [
    "![results_heatmap](img/results_heatmap.png) \n",
    "\n",
    "**Figure 3**: Show the steps take to generate the heatmap. From activity polylines to points to raster. For a larger view, view the raw html file here: [average_speed_map.html](https://rawcdn.githack.com/pmhalvor/geo4460/refs/heads/master/mca/output/mca_20250421_1749_heatmap/average_speed_map.html) (TODO: update with most recent version)"
   ]
  },
  {
   "cell_type": "markdown",
   "metadata": {},
   "source": [
    "Speed was only available from my personal Strava user's activities, limiting the overall generalizability of this layer. \n",
    "This is likely due to data privacy restrictions enforced by Strava. \n",
    "Given this, the speed  data available still provides a good representation of some of the bottle necks in the city. \n",
    "\n",
    "One consideration along the way was to potentially produce a slope-raster using a heatmap as an input \"DEM\". \n",
    "Those outputs should show where we observe sharp transitions from high-to-low speed, potentially pointing out dangerous areas.\n",
    "Such an analysis was however down-prioritized due to time restraints. \n",
    "\n",
    "Direction of travel was also considered as an interesting caveat to this average speed raster. \n",
    "No directional information was included, which means points with speeds from trips up a hill could appear directly next to points with speeds from trip traveling down a hill, thus having vastly different speeds in close proximity. \n",
    "We acknowledge this as an over-simplification of the data, but had to make this limitation also due to time restraints. \n",
    "\n",
    "As map (b) in Figure 3 shows, only a hand full of points were used for layer generation from the original activity data. \n",
    "This could have also introduced some bias into our output layer. \n",
    "We tried to, however, mitigate this bias as much as possible using an RMSE evaluation on an external test data set. \n",
    "Given that RMSE scores for the test set were generally higher than for the train set, with test set sizes 1/4 of the train set, we acknowledge that we were not entirely successful with this bias mitigation. \n",
    "However, there will always be a trade over with bias and variablility when producing raster from a subset of data, and we feel the final product from this layer is a good enough representation of average speeds around Oslo, especially when compared against the underlying road network. \n",
    "\n",
    "A final comment on these results is how big of a challenge CRS alignment was. \n",
    "We noticed this due to the small yellow or purple dots, as can be seen in map C, not perfectly aligning with the underlying road network. \n",
    "After a lot of trail and error, we realized that interpoaltion outputs from Whitebox tools need to have the CRS first manually set, then be reprojected into the map coordinate system (4326). \n",
    "Once this was discoverd, we started producing heatmap plots that showed hotspot zones perfectly aligning with roads, meaning the heatmaps were finally correctly projected. \n",
    "Usually, such extreme points are deemed as unwanted artifacts in output rasters, or signal that the rasters may be slightly overfit. \n",
    "However, here they actually served as a good indicator on how well our layer represented the training data. \n"
   ]
  },
  {
   "cell_type": "markdown",
   "metadata": {},
   "source": [
    "### Traffic"
   ]
  },
  {
   "cell_type": "markdown",
   "metadata": {},
   "source": [
    "![traffic results](img/results_traffic.png)\n",
    "\n",
    "**Figure 4**: Traffic rasters for Oslo from the monthly volume averages during morning, daytime, and evenings in May 2024. For a larger view, view the raw html file here: [traffic_density_daytime_map.html](https://rawcdn.githack.com/pmhalvor/geo4460/refs/heads/master/mca/output/mca_20250423_1734_traffic/traffic_density_daytime_map.html) (TODO: update after merge)"
   ]
  },
  {
   "cell_type": "markdown",
   "metadata": {},
   "source": [
    "We noticed there was not much variation between the 3 time-of-day in which our traffic data was grouped into. \n",
    "This is likely due to the over simplification of using the raw volume count values from the stations. \n",
    "Had we instead convert these volume counts to some relavtive metrics, based on each station's own max/min, then we might have observed a much more nuanced traffic raster. \n",
    "Given the little variation between rasters, we chose to just use the daytime raster for downstream processing. \n",
    "\n",
    "The initial idea of build a raster for traffic instead of points with buffers was that areas of the city with many cars flowing through one point likely correlated to the number of cars traveling _around those points too (for example in side streets). \n",
    "We recognize this as a simplistic assumption, that prioritizes highway stations, as can be see by the high values around Skøyen/Bygdeøy. \n",
    "\n",
    "\n"
   ]
  },
  {
   "cell_type": "markdown",
   "metadata": {},
   "source": [
    "### Cost"
   ]
  },
  {
   "cell_type": "markdown",
   "metadata": {},
   "source": [
    "![cost results](img/results_cost.png)\n",
    "\n",
    "**Figure 5**: Cost layer (C) generated from the speed (A) and slope layers (B), confined to roads. For a larger view, view the raw html file here: [cost_layer_visualization.html](https://rawcdn.githack.com/pmhalvor/geo4460/refs/heads/master/mca/output/mca_20250423_2249_cost_distance/normalized_cost_distance_map.html) (TODO: update after merge)"
   ]
  },
  {
   "cell_type": "markdown",
   "metadata": {},
   "source": [
    "The slope layer, as seen in Map B of Figure 5, has some undesired artifacts, seen as the step-like diagonals to the left and right of the raster. \n",
    "Similar artifacts are faintly observable in the average speed heatmap, shown in Map A. \n",
    "We assume the artifacts are due to missing data in these areas. Had we applied a mask clipping only the Oslo city limits, these artifacts would no longer be present. \n",
    "\n",
    "Map C shows the final cost layer, with the inverse `vridirs` colormap, meaning yellows represent _low_ values and indego as _high_ values. \n",
    "To generate this map, we applied a buffer to the road network, and used this buffer layer as a mask.\n",
    "That allows us to mark cells that were not corresponding to any road, path, or other forms of transport as impossible to transverse. \n",
    "The coloring inside the map also seems reasonable, with the flatter regions of the city main yellow, and the sleeper regions more greenish/blue. \n",
    "\n",
    "Average speed was used an an indicator here to again highlight bottle necks, like red lights or areas with many pedestrians. \n",
    "Using these data together with slope helps mitigate the aforementioned problem of loss of directional information in the speed plots and very steep hills. \n",
    "A steep hill might usually mean higher cost if traveling upwards, but if the average speed was usually high for this area, the two factors might cancel each other out. \n"
   ]
  },
  {
   "cell_type": "markdown",
   "metadata": {},
   "source": [
    "## Root-mean-square error (RMSE)\n",
    "RMSE was calculated when finding the best elevation and heatmap interpolation methods. \n",
    "The below tables show some RMSE results from those experiments."
   ]
  },
  {
   "cell_type": "markdown",
   "metadata": {},
   "source": [
    "### Elevation\n",
    "| Interpolation Method | Cell Size | Train RMSE | Test RMSE | Num Train Points | Num Test Points | DEM TIN Max Triangle Edge Length | DEM IDW Weight | DEM IDW Radius | DEM IDW Min Points |\n",
    "|-----------------------|-----------|------------|-----------|------------------|-----------------|-------------------------------|----------------|----------------|--------------------|\n",
    "| nn                    | 15.0      | 1.1774     | 2.5437    | 113417           | 28355           | 100.0                         | 1.0            | 500.0          | 5                  |\n",
    "| tin                   | 15.0      | 1.3550     | 2.4741    | 113417           | 28355           | 100.0                         | 1.0            | 500.0          | 5                  |\n",
    "| tin                   | 15.0      | 1.1440     | 2.5677    | 113417           | 28355           | 1000.0                        | 1.0            | 500.0          | 5                  |\n",
    "| idw                   | 15.0      | 10.8700    | 13.0014   | 113417           | 28355           | 1000.0                        | 1.0            | 500.0          | 5                  |\n",
    "| tin                   | 15.0      | 1.3704     | 1.3618    | 113417           | 28355           | 50.0                          | 1.0            | 500.0          | 5                  |\n",
    "| tin                   | 15.0      | 1.2366     | 2.6380    | 113417           | 28355           | 150.0                         | 1.0            | 500.0          | 5                  |\n",
    "| tin                   | 15.0      | 1.1508     | 2.5751    | 113417           | 28355           | 350.0                         | 1.0            | 500.0          | 5                  |\n",
    "| tin                   | 15.0      | 1.1439     | 2.5732    | 113417           | 28355           | 500.0                         | 1.0            | 500.0          | 5                  |\n",
    "| tin                   | 15.0      | 1.1429     | 2.5686    | 113417           | 28355           | 750.0                         | 1.0            | 500.0          | 5                  |\n",
    "| tin                   | 15.0      | 1.1442     | 2.5680    | 113417           | 28355           | 900.0                         | 1.0            | 500.0          | 5                  |\n",
    "| tin                   | 15.0      | 1.1440     | 2.5677    | 113417           | 28355           | 1000.0                        | 1.0            | 500.0          | 5                  |\n",
    "\n",
    "**Table 1**: RMSE results for the elevation interpolation methods. The best method was found to be TIN with a max triangle edge length of 1000m, with a RMSE of 2.5677 on the test set. The IDW method performed poorly, with a RMSE of 13.0014 on the test set. The number of train/test points is also shown, along with the parameters used for each method. The cell size was set to 15m for all methods."
   ]
  },
  {
   "cell_type": "markdown",
   "metadata": {},
   "source": [
    "### Average heat map\n",
    "| Train RMSE | Test RMSE | Cell Size | Weight | Radius | Min Points | Train Points | Test Points |\n",
    "|------------|-----------|-----------|--------|--------|------------|--------------|-------------|\n",
    "| 0.5701     | 1.5128    | 15        | 1.5    | 500    | 15         | 4136         | 1034        |\n",
    "| 0.5841     | 1.5008    | 15        | 1.5    | 1000   | 15         | 4136         | 1034        |\n",
    "| 0.5048     | 1.6118    | 15        | 2.3    | 1000   | 15         | 4136         | 1034        |\n",
    "| 0.5154     | 1.5756    | 15        | 2.0    | 1000   | 25         | 4136         | 1034        |\n",
    "| 0.5154     | 1.5781    | 15        | 2.0    | 1000   | 50         | 4136         | 1034        |\n",
    "| 0.5147     | 1.5816    | 15        | 2.0    | 500    | 50         | 4136         | 1034        |\n",
    "| 0.3907     | 1.5760    | 10        | 2.0    | 500    | 100        | 4136         | 1034        |\n",
    "| 0.3908     | 1.5756    | 10        | 2.0    | 500    | 125        | 4136         | 1034        |\n",
    "| 0.4123     | 1.5457    | 10        | 1.75   | 500    | 125        | 4136         | 1034        |\n",
    "| 0.5559     | 1.4783    | 10        | 1.25   | 500    | 125        | 4136         | 1034        |\n",
    "| 0.5631     | 1.4781    | 10        | 1.25   | 500    | 150        | 4136         | 1034        |\n",
    "| 0.5652     | 1.4789    | 10        | 1.25   | 750    | 150        | 4136         | 1034        |\n",
    "| 0.4133     | 1.5457    | 10        | 1.75   | 1000   | 150        | 4136         | 1034        |\n",
    "| 0.4139     | 1.5449    | 10        | 1.75   | 1000   | 250        | 4136         | 1034        |\n",
    "| 0.5889     | 1.4208    | 10        | 1.75   | 1000   | 250        | 8252         | 2063        |\n",
    "| 0.8081     | 1.4012    | 10        | 1.75   | 1000   | 250        | 20670        | 5168        |\n",
    "| 0.8042     | 1.4019    | 10        | 1.75   | 500    | 250        | 20670        | 5168        |\n",
    "| 1.0872     | 1.3609    | 10        | 1.0    | 500    | 250        | 20670        | 5168        |\n",
    "| 1.0640     | 1.3485    | 10        | 1.0    | 500    | 150        | 20670        | 5168        |\n",
    "| 1.0640     | 1.3485    | 15        | 1.5    | 500    | 15         | 20670        | 5168        |\n",
    "| 1.0640     | 1.3485    | 10.0      | 1.0    | 500.0  | 150        | 20670        | 5168        |\n",
    "| 1.2937     | 1.3487    | 100.0     | 1.0    | 500.0  | 150        | 20670        | 5168        |\n",
    "| 1.1913     | 1.3446    | 25.0      | 1.0    | 500.0  | 150        | 20670        | 5168        |\n",
    "| 6.7490     | 6.7633    | 10.0      | 1.0    | 500.0  | 150        | 20670        | 5168        |\n",
    "| 1.1868     | 1.3570    | 25.0      | 1.0    | 500.0  | 150        | 20680        | 5171        |\n",
    "| 1.1821     | 1.3683    | 25.0      | 1.0    | 500.0  | 150        | 20655        | 5164        |\n",
    "| 1.6717     | 1.7921    | 25.0      | 1.0    | 500.0  | 150        | 15313        | 3829        |\n",
    "| 1.6133     | 1.7994    | 10.0      | 1.0    | 500.0  | 150        | 22971        | 5743        |\n",
    "\n",
    "**Table 2**: RMSE results for the average speed interpolation methods. The best method was found to be IDW with a weight of 1.75, with a RMSE of 1.3485 on the test set. The number of train/test points is also shown, along with the parameters used for each method. The cell size varying during experimentation, for faster processing during other debugging. "
   ]
  },
  {
   "cell_type": "markdown",
   "metadata": {},
   "source": [
    "## Overlays"
   ]
  },
  {
   "cell_type": "markdown",
   "metadata": {},
   "source": [
    "![results_overlay_ab](img/results_overlay_ab.png)\n",
    "![results_overlay_cd](img/results_overlay_cd.png)\n",
    "\n",
    "**Figure 6**: Overlay steps A, B, C, and D. The final output is a GeoDataFrame with segments that are on roads missing bike lanes, are popular (effort count, star count, athlete count), have high average speeds, have high traffic volumes, and have low cost (easy to ride). For a larger view, view the raw html file here: [combined_overlays_map.html](https://rawcdn.githack.com/pmhalvor/geo4460/refs/heads/master/mca/output/mca_combine_features_test/combined_overlays_map.html) (TODO: update after merge)"
   ]
  },
  {
   "cell_type": "markdown",
   "metadata": {},
   "source": [
    "The final outputs currently show many segments that could be potential candidates for future bike lanes. \n",
    "We recognize that there are a few segments that overlap with known bike lanes, meaning there is likely bug in out bike lane removal of roads which should be further investigated. \n",
    "\n",
    "Given there are still many segments left, we could be even more strict with our thresholding, to ensure only a handful of final segments remain. The current status of the project is a great starting point for further investigation into answering our research question. \n",
    "\n",
    "In conclusion, we see quite a few suggestions for future bike lanes. Though another iteration of this analysis needs to include roads with buffers and then filter away bike lanes, to ensure that only segments w/o any bike lanes are considered in the final overlay. With the current settings, we notice the most filtering happens when considering areas with high average speeds and high traffic. Thresholds for these criteria could be tuned a bit more, to be even more selective. A final ranking output based on the criteria weighting could also help find the most pressing routes that need a future bike lane. \n"
   ]
  },
  {
   "cell_type": "markdown",
   "metadata": {},
   "source": [
    "# Discussion\n",
    "\n",
    "## Experimentation\n",
    "### Inidivdual layers\n",
    "- Each layer having its own callable `main` sections allowed for faster debugging when a single layer's results seemed off\n",
    "    - Downside was keeping these in sync when updating code to bette suite higher level functions \n",
    "- Displaying in Folium maps right away also helped inspect each layer, giving visual feedback typical to GUI based GIS software like ArcGIS Pro\n",
    "    - Downside was that underlying CRS conversions and explicit CRS definitions not always behaving as expected\n",
    "- Modular approach helps with scalability, and reusing code for later work\n",
    "- Code can be refactored to be more generalizable for potentially future MCAs\n",
    "\n",
    "\n",
    "### Parameter controll through `config.py`\n",
    "- Used together with version-control like `git` and evaluation checks (RMSE)\n",
    "- Very helpful for keeping track of which parameters created which outputs\n",
    "- Easily passed between tasks, to ensure the same settings and output files are used for a single execution\n",
    "- Output directories with date and time for local organization of experiment results\n",
    "- Using `pathlib.Path` module to ensure files exist before executing pipeline helps to ensure inputs are present before running\n",
    "\n",
    "\n",
    "## Limitations/Challenges\n",
    "\n",
    "### CRS management\n",
    "- Biggest problem during development was often due to coordinate system management\n",
    "- Originally chose to use default EPSG:25833\n",
    "    - Good for Whiteboxtools (interpolation) and N50 data\n",
    "    - Bad for visualization and Strava data\n",
    "- Had to convert all Strava data from EPSG:4326 to EPSG:25833\n",
    "- Had to reproject to EPSG:4326 for visualization with Folium\n",
    "- All of this was discovered throughout development, so still echos in code of unnecessary reprojections and crs checks\n",
    "- In ArcGIS Pro, this is often handled automatically, so not often something we've thought about previously\n",
    "\n",
    "### Rasters, points, or polylines?\n",
    "- Every layer represented different data\n",
    "- Needed to decide what made most sense to represent the layer: raster, points, or polylines\n",
    "- For example, segment layers were orignally made as rasters, giving results hard to interpret\n",
    "- Polylines work great but not always exact overlap, making hard to filter away\n",
    "    - Could be solved with **buffers**, but then why not go all the way with raster? \n",
    "\n",
    "### Roads without bike lanes\n",
    "- Polylines representing roads independent from bike lanes\n",
    "- Can see in final results that some roads we know have bike lanes still show up\n",
    "    - Is this due to the segment touching a part of road w/o bike lane?\n",
    "    - Or is this rather due to bike lines represented as separate geomtries as roads? \n",
    "- This relates to the above point of how to represent the data\n",
    "\n",
    "### Un-normalized traffic data \n",
    "- Traffic volumes vary greatly depending on the road type the stations are measuring \n",
    "- Highways will obviously have higher traffic than inner city streets\n",
    "- No good way to normalize fairly\n",
    "- Should have maybe taken into consideration road type, and weighted accordingly"
   ]
  },
  {
   "cell_type": "markdown",
   "metadata": {},
   "source": [
    "# Summary"
   ]
  },
  {
   "cell_type": "markdown",
   "metadata": {},
   "source": [
    "In this MCA, we've gotten direct experience collecting data from external APIs, converting that to relevat geo-informed dataframes, and used it to produce this analysis on cycling infrastructure around Oslo. \n",
    "Though results still seem inconclusive, our Python based workflow enables us to quickly run further experimentation via paramter tuning, to find the utmost important routes to consider for new bike lanes. \n",
    "\n",
    "We've discussed some decisions made along the way, like the modular approach to each feature layer and choices around which data formats best represent each data type. \n",
    "Some challenges we faced during the process provided useful experience for future projects, especially when working with data and software that use varying base coordinate systems and how different regularization techniques might enable us to get even more information out of our data. \n",
    "\n",
    "In conclusion, we found many candidate routes to propse for future bike lanes. \n",
    "Though due to minimal fine tuning, we are hesitatnt to draw any hard conclusions about which are the most important to propose to the client. \n",
    "However, the work presented in this MCA enables future findings on this topic. "
   ]
  },
  {
   "cell_type": "markdown",
   "metadata": {},
   "source": [
    "# References\n"
   ]
  },
  {
   "cell_type": "markdown",
   "metadata": {},
   "source": [
    "<!-- (TODO: convert to proper citation/reference notation) -->\n",
    "\n",
    "- **Strava API**: [https://developers.strava.com/docs/reference/](https://developers.strava.com/docs/reference)\n",
    "- **Statens vegvesen API**: [https://trafikkdata.atlas.vegvesen.no/](https://trafikkdata.atlas.vegvesen.no)\n",
    "- **Luftkvalitet API**: [https://luftkvalitet.nilu.no/historikk/](https://luftkvalitet.nilu.no/historikk)\n",
    "- **N50 Map Data**: [https://www.geonorge.no/geonetworktest/srv/api/records/](https://www.geonorge.no/geonetworktest/srv/api/records/ea192681-d039-42ec-b1bc-f3ce04c189ac)\n"
   ]
  }
 ],
 "metadata": {
  "date": "2025-04-26",
  "language_info": {
   "name": "python"
  },
  "subtitle": "GEO4460",
  "title": "Multi-Criteria Analysis"
 },
 "nbformat": 4,
 "nbformat_minor": 2
}
