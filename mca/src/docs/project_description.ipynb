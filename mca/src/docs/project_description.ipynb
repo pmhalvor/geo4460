{
 "cells": [
  {
   "cell_type": "markdown",
   "metadata": {},
   "source": [
    "[pmhalvor@uio.no](mailto:pmhalvor@uio.no) \\\n",
    "GEO4460 \\\n",
    "[GitHub](https://github.com/pmhalvor/GEO4460)\n",
    "\n",
    "\n",
    "# Research Question\n",
    "\n",
    "*Can we use publicly available data to improve cycling conditions routes around Oslo?*\n",
    "\n",
    "The goal of this project is to produce a multi-criteria analysis to find potentially dangerous cycling routes around Oslo. \n",
    "To do so, we will decide on a handful of important [criteria](#criteria) to consider when planning future cycling routes, including popularity, traffic, and possibly air quality.\n",
    "\n",
    "We believe this topic is well suited for a multi-criteria analysis, due to its scope and publicly available data sources that can be used to answer the research question.\n",
    "Cycling typically covers large distances in a single training session relative to other sports like running or swimming, which could be helpful when dealing with low resolution data, like air quality monitoring, as well as passing many potenial bottlenecks in a single route. \n",
    "Cycling is also not as weather dependent as for example cross-country skiing, and can be done _almost_ year-round in Oslo, thus limiting the scope of variables to summarize over. \n",
    "Finally, there exists open sourced data on the present state of cycling routes in Oslo, each with their own classification of the lane (shares the road, shares the sidewalk, etc), making it possible to find intended routes that might be funneling bikers into dangerous conjuctions in present day. \n"
   ]
  },
  {
   "cell_type": "markdown",
   "metadata": {},
   "source": [
    "# Client\n",
    "\n",
    "A submodule within Oslo Kommune's Street, Transport, & Parking Department tasked with improving cycling infrastructure in Oslo.\n"
   ]
  },
  {
   "cell_type": "markdown",
   "metadata": {},
   "source": [
    "# Criteria\n",
    "\n",
    "We'll consider 3 main criteria for this analysis, each with some nuances: segment popularity, bike and automotive traffic, and air quality.\n",
    "\n",
    "## Segment popularity\n",
    "Strava is a popular app for tracking endurance sports, sharing routes, and competing with others. Their API allows developers to explore user-created routes called **segments** from a given location. **[Details of each segment](https://developers.strava.com/docs/reference/#api-models-DetailedSegment)** contain information on the segment's elevation gain, a polyline of the route, whether the route is hazardous (boolean), its creation time, the number of unique athletes who have completed the segment, and the number of athletes who have saved the segment. \n",
    "\n",
    "We can construct different popularity metrics and thresholds to identify the most in Oslo, based on a weighted aggregation of the number of athletes who have completed the segment, the number of athletes who have saved the segment, and the age of the segment.\n",
    "\n",
    "Segments are created from user activities, so we will initially assume it is safe to consider any public (non-hazardous) segment as possible to cycle on, though some quality checks will be necessary on the data we retrieve. \n",
    "\n",
    "## Traffic\n",
    "The Norwegian Public Roads Administration (Statens vegvesen) provides **[traffic data](https://trafikkdata.atlas.vegvesen.no/#/kart?lat=59.88682847131105&lon=10.697184809081069&trafficType=bicycle&trpids=21745B1996708&zoom=10)** for the main roads in Norway. \n",
    "Through an API, developers have access to real-time and historic data on both automotive and cyclist traffic around the entire country for all hours of the day. \n",
    "\n",
    "This criterion introduces an interesting caveat we'll need to consider in the MCA. \n",
    "Traffic is heavily dependent on the time of day, so we'll likely split our analysis into 3 time-frames: morning (00-08), day (08-16), and evening (16-00). \n",
    "Distinctions between weekdays and weekends may also be necessary to consider, though can be decided after more data exploration.\n",
    "Traffic flowing through each measuring station might also need to be weighted relative to the averaged traffic on that road for any given day, in addition to the total number of vehicles passing through during each hour.\n",
    "These aggregations and weighting schemes provide us with more insights into how popular a road is, and which times of day might be more dangerous than others. \n",
    "\n",
    "## Air Quality Index (AQI) \n",
    "**[Air Quality Index](https://en.wikipedia.org/wiki/Air_quality_index)** (AQI) is a measure of how polluted the air is in a given area.\n",
    "This can be an important factor to consider when planning where to direct cyclists through a city. \n",
    "For example, if two roads running parallel have significantly different AQI's due to closeness to a highway, it might be better to direct cyclists through the road with the lower AQI, even if it is slightly longer or more costly to build.\n",
    "\n",
    "If time allows for this analysis, we will consider AQI versus cost distance to find the most suitable routes for cyclists.\n",
    "Cost distance will be calculated by changing elevation, slope, and road type (paved vs unpaved) to find the most suitable route for cyclists, found in [N50 data](https://www.kartverket.no/en/kart/n50/) data.\n",
    "\n",
    "It was due to the initial dataset we found for this criterion that we decided a sport that is robust against low-resolution data of other layers would be best.\n",
    "We've found global, continental, and national data sources for AQI. \n",
    "Since our analysis is focused on Oslo, we'll just integrate with the **[Luftkvalitet API](https://luftkvalitet.nilu.no/)** from NILU. \n",
    "We deemed global and continental API intergrations outside the scope of this project, but worth mentioning for future work.\n"
   ]
  },
  {
   "cell_type": "markdown",
   "metadata": {},
   "source": [
    "# Data Sources \n",
    "\n",
    "- **Strava API**: [https://developers.strava.com/docs/reference/](https://developers.strava.com/docs/reference)\n",
    "- **Statens vegvesen API**: [https://trafikkdata.atlas.vegvesen.no/](https://trafikkdata.atlas.vegvesen.no)\n",
    "- **Luftkvalitet API**: [https://luftkvalitet.nilu.no/historikk/](https://luftkvalitet.nilu.no/historikk)\n",
    "- **N50 Map Data**: [https://www.geonorge.no/geonetworktest/srv/api/records/](https://www.geonorge.no/geonetworktest/srv/api/records/ea192681-d039-42ec-b1bc-f3ce04c189ac)\n",
    "\n"
   ]
  },
  {
   "cell_type": "markdown",
   "metadata": {},
   "source": []
  }
 ],
 "metadata": {
  "authors": [
   {
    "name": "Per Halvorsen"
   }
  ],
  "date": "2025-03-16",
  "language_info": {
   "name": "python"
  },
  "title": "MCA: Oslo Cycling Conditions (Project Description)"
 },
 "nbformat": 4,
 "nbformat_minor": 2
}
