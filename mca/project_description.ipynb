{
 "cells": [
  {
   "cell_type": "markdown",
   "metadata": {},
   "source": [
    "[pmhalvor@uio.no](mailto:pmhalvor@uio.no) \\\n",
    "GEO4460 \\\n",
    "[GitHub](https://github.com/pmhalvor/GEO4460)\n",
    "\n",
    "\n",
    "# Research Question {-}\n",
    "\n",
    "The goal of this project is to produce a multi-criteria analysis to determine the best conditions for cycling around Oslo. \n",
    "To do so, we will decide on a handful of important [criteria](#criteria--) to consider when planning a cycling training or route, including route popularity, traffic, and air quality.\n",
    "\n",
    "We believe this topic is well suited for a multi-criteria analysis, due to its scope and publicly available data sources that can be used to answer the research question.\n",
    "Cycling typically covers large distances in a single training session relative to other sports like running or swimming, which could be helpful when dealing with data of potentially low resolutions. \n",
    "Cycling is also not as weather dependent as for example cross-country skiing, and can be done _almost_ year-round in Oslo, thus limiting the scope of variables to summarize over. \n",
    "Finally, when planning a training session, it is important to take proper consideration of potential hazards to ensure optimal training conditions.\n"
   ]
  },
  {
   "cell_type": "markdown",
   "metadata": {},
   "source": [
    "# Client {-}\n",
    "\n",
    "The client is a small cycling group looking to optimize training. \n"
   ]
  },
  {
   "cell_type": "markdown",
   "metadata": {},
   "source": [
    "# Criteria {-}\n",
    "\n",
    "We'll consider 3 main criteria for this analysis, each with some nuances: segment popularity, traffic, and air quality.\n",
    "\n",
    "## Segment popularity {-}\n",
    "Strava is a popular app for tracking endurance sports, sharing routes, and competing with others. Their API allows developers to explore user-created routes called **segments** from a given location. **[Details of each segment](https://developers.strava.com/docs/reference/#api-models-DetailedSegment)** contain information on the segment's elevation gain, a polyline of the route, whether the route is hazardous, its creation time, the number of unique athletes who have completed the segment, and the number of athletes who have saved the segment. \n",
    "\n",
    "One important question to consider on behalf of the client is whether they are looking for social sessions (areas with a lot of other cyclists), or more solitary ones (hidden gems). \n",
    "It will be interesting to see how different the suitability regions look for each of these, so we'll consider the client asked for both.\n",
    "\n",
    "We can construct different popularity metrics and thresholds to identify the most and least popular segments in Oslo, based on different aggregations of the segment response data.\n",
    "Segments are created from user activities, so we will initially assume it is safe to consider any public (non-hazardous) segment as possible to cycle on, though some quality checks will be necessary on the data we retrieve. \n",
    "\n",
    "## Traffic {-}\n",
    "The Norwegian Public Roads Administration (Statens vegvesen) provides **[traffic data](https://trafikkdata.atlas.vegvesen.no/#/kart?lat=59.88682847131105&lon=10.697184809081069&trafficType=bicycle&trpids=21745B1996708&zoom=10)** for the main roads in Norway. \n",
    "Through an API, developers have access to real-time and historic data on both automotive and cyclist traffic around the entire country for all hours of the day. \n",
    "\n",
    "This criterion introduces an interesting caveat we'll need to consider in the MCA. \n",
    "Traffic is heavily dependent on the time of day, so we'll likely split our analysis into 3 time-frames: morning (00-08), day (08-16), and evening (16-00). \n",
    "Distinctions between weekdays and weekends may also be necessary to consider, though can be decided after more data exploration.\n",
    "\n",
    "## Air Quality Index (AQI) {-}\n",
    "Air quality is an important factor to consider when planning outdoor exercise.\n",
    "For the most part, the air quality in Oslo is good, but there are definite fluctuations in certain areas and times of day. \n",
    "Since we are looking for _most suitable areas_ to cycle, AQI can be a helpful deciding factor to choose between two otherwise equal segments.\n",
    "\n",
    "It was due to the initial dataset we found for this criterion that we decided a sport that is robust against low-resolution data of other layers would be best.\n",
    "We've found global, continental, and national data sources for AQI. \n",
    "Since our analysis is focused on Oslo, we'll just integrate with the **[Luftkvalitet API](https://luftkvalitet.nilu.no/)** from NILU. \n",
    "Had our client had international ambitions, we could have also considered integrating with the larger data sources in order to ensure the MCA could be easily expanded to other cities.\n",
    "We deemed that outside the scope of this project, but it is worth mentioning for future work.\n"
   ]
  },
  {
   "cell_type": "markdown",
   "metadata": {},
   "source": [
    "# Expected Sources {-}\n",
    "\n",
    "- **Strava API**: [https://developers.strava.com/docs/reference/](https://developers.strava.com/docs/reference)\n",
    "- **Statens vegvesen API**: [https://trafikkdata.atlas.vegvesen.no/](https://trafikkdata.atlas.vegvesen.no)\n",
    "- **Luftkvalitet API**: [https://luftkvalitet.nilu.no/historikk/](https://luftkvalitet.nilu.no/historikk)\n",
    "- **N50 Map Data**: [https://www.geonorge.no/geonetworktest/srv/api/records/](https://www.geonorge.no/geonetworktest/srv/api/records/ea192681-d039-42ec-b1bc-f3ce04c189ac)\n",
    "\n"
   ]
  },
  {
   "cell_type": "markdown",
   "metadata": {},
   "source": []
  }
 ],
 "metadata": {
  "authors": [
   {
    "name": "Per Halvorsen"
   }
  ],
  "date": "2025-03-16",
  "language_info": {
   "name": "python"
  },
  "title": "MCA: Oslo Cycling Conditions (Project Description)"
 },
 "nbformat": 4,
 "nbformat_minor": 2
}
