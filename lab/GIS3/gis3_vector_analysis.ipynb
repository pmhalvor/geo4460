{
 "cells": [
  {
   "cell_type": "markdown",
   "metadata": {},
   "source": [
    "Per Halvorsen   \\\n",
    "[pmhalvor@uio.no](mailto:pmhalvor@uio.no) \\\n",
    "GEO4460         "
   ]
  },
  {
   "cell_type": "markdown",
   "metadata": {},
   "source": [
    "# Introduction  {-}\n",
    "\n",
    "In this paper, we will look into the sediment, soil, and bedrock charactistics of the Oslofjord area. \n",
    "The data used to build this analysis can be downloaded from Canvas ([GIS3 datafiles](https://uio.instructure.com/files/3198654/download?download_frd=1); requires login).\n",
    "The software used is ArcGIS Pro.\n",
    "\n",
    "Topics we will explore:\n",
    "\n",
    "- Distribution of cultivated fields in a specified municipality\n",
    "- Conflicting groundwater resources and cultivated land/buildings/rivers (why rivers?)\n",
    "- Which elevations do marine areas exist? \n",
    "- Which land cover type (soil class) dominates the selected municipality?\n",
    "- Which sediments primarily dominates cultivated fields? \n",
    "- What sediment type is preferable as groundwater resources? \n",
    "\n"
   ]
  },
  {
   "cell_type": "markdown",
   "metadata": {},
   "source": [
    "# Load data\n",
    "\n",
    "In order to get sedimentary, soil, and bedrock data, we need to load in the `GIS3.gdb` file to ArcGIS. \n",
    "\n",
    "\n",
    "As a preliminary tutorial exercise, the Bærum municipality has already been explored ([link](https://uio.instructure.com/files/3198653/download?download_frd=1); requires login). \n",
    "Our current analysis will therefore expand on that research, looking into the neighboring Oslo municipality.\n",
    "\n",
    "INSERT IMAGE OF AREA w/ CAPTION"
   ]
  },
  {
   "cell_type": "markdown",
   "metadata": {},
   "source": [
    "We'll also want to make sure to load in our sediment, soil, and bedrock data, labelling each layer in each category using the `Symbology` command. "
   ]
  },
  {
   "cell_type": "markdown",
   "metadata": {},
   "source": [
    "INSERT 4 Oslos each with either sediment, soil, or bedrock subcategories, and the final with none. "
   ]
  },
  {
   "cell_type": "markdown",
   "metadata": {},
   "source": [
    "# Operations \n"
   ]
  },
  {
   "cell_type": "markdown",
   "metadata": {},
   "source": [
    "## Selecting\n",
    "\n",
    "Let's now select a single type of land cover in our minicipality. \n",
    "As we'll be looking into groundwater resources later, it might be interesting to see how much land inn Oslo is used for agriculture.\n",
    "This is done using the `Select by Attributes` command on our soil-class data, where we select the `JORDARTTYP` attribute and set it to `Dyrket mark`.\n",
    "By showing only this layer, we can see the distribution of cultivated fields in Oslo.\n",
    "\n",
    "INSERT LAYOUT SHOWING SELECTED AREA"
   ]
  },
  {
   "cell_type": "markdown",
   "metadata": {},
   "source": [
    "A [flowchart](https://mermaid.live/edit#pako:eNqVklFvmzAQx7-KdS_dJBKlpGkSpFaipKo2jRKFaNI2-nCAE6wYjGyzlqX57nNwtpJpe9i92Hf3u_vbp9tDJnIKHmy4eM4KlJp8WiUVMea_26C3wUGOGlNUlDx8iMfDbZ6-J4PBLblbfbP5EmtyR3Mpst3TqbIDwl4-bCqWsRo504yqMyxe9LiY5qyklT4ngj4hGCcZR3XsYqnwSL3a-9FiymmmSdoSX2vJ0kbTt-Sj__nxJlJc2NAriXrNj_GTdBx02sFy_1ZrQS0ET8ULWdvzX2m_Qt4qpjpOkT-xAsuSShJwVtvUwR6RVbVOsDwNIPrrBKg6f3H0P4P4GK0W_mq9_rK8uVi0ckc1CVHuLn7N5b4nGTRcs--oaU42jPKc5EzZhkxURh4cMJ8pkeVmk7qBJaALWtIEPHPlbFvoBJLqYEBstIjbKgNPy4Y6IEWzLcAocWW8pjbrRhcMtxLL39Eaq69CnPng7eEFvPHIHV7O3MvZ9WQ-v3LH12MHWvBGBwd-dBWj4dza1J24k-nVbOqAWTItZGgXv9v_w0-EjexE) describing the steps taken so far can been seen below:\n",
    "\n",
    "\n",
    "![Flowchart](flowchart_cultivated_field.png)"
   ]
  },
  {
   "cell_type": "markdown",
   "metadata": {},
   "source": [
    "<!-- [![](https://mermaid.ink/img/pako:eNqVUlFLwzAQ_ishL1PYfPGtMKFrRRS7jnYIan24NtctLG1Kkipl2383babrwBfzkrv7vvu-HLk9LSRD6tFSyK9iC8qQ5ySriT3-VQleCTMGBnLQSB4e09ubDcuvyWx2RxbJu8MraMgCmZLF7uPUORCiER61NS94A4IbjvqCloYjXoqMV1ibS0YwZkguSCFA9yqOFfWsg4v7k6LAwpC8I74xiuetwTO49F-W81gL6UoHEo_E-_rJOg0G72C1P_f6NYhOc03WUgpNeljwxuFHd8WuySXB6vT--M8BUF8axv-Z4ylOQj9Zr19X80nYqR0aEoHaTX7Guh9ZBq0w_BMMMlJyFIwwrp0gl7W1p1NaoaqAM7sIw7wZNVusMKOeDZnVzWhWHy0PWiPTri6oZ1SLU6pku9lSayS0zdrGLguGHDYKqt9qA_WblOfc_rGRKnJ7N6zf8Rs1IcgM?type=png)](https://mermaid.live/edit#pako:eNqVUlFLwzAQ_ishL1PYfPGtMKFrRRS7jnYIan24NtctLG1Kkipl2383babrwBfzkrv7vvu-HLk9LSRD6tFSyK9iC8qQ5ySriT3-VQleCTMGBnLQSB4e09ubDcuvyWx2RxbJu8MraMgCmZLF7uPUORCiER61NS94A4IbjvqCloYjXoqMV1ibS0YwZkguSCFA9yqOFfWsg4v7k6LAwpC8I74xiuetwTO49F-W81gL6UoHEo_E-_rJOg0G72C1P_f6NYhOc03WUgpNeljwxuFHd8WuySXB6vT--M8BUF8axv-Z4ylOQj9Zr19X80nYqR0aEoHaTX7Guh9ZBq0w_BMMMlJyFIwwrp0gl7W1p1NaoaqAM7sIw7wZNVusMKOeDZnVzWhWHy0PWiPTri6oZ1SLU6pku9lSayS0zdrGLguGHDYKqt9qA_WblOfc_rGRKnJ7N6zf8Rs1IcgM) -->\n",
    "\n",
    "<!-- [![](https://mermaid.ink/img/pako:eNpVUEtrwzAM_itCpw2aXXbLYbCmaxhkbKw7LelBi5XYtLGM61BKkv8-p4E9dJK-F-gbsBbFmGJzlHOtyQco3isLcR7LQkhB_ry7v2vV1x6S5GHMOUAnli8jrG9ygZMW54xtbxfPehZBNhSzjCFoYw_TQmVX_6vlETZlQS6I2_9lPs4ywlNp3nSM_89oz9G1LRtKG0pq8pCRv0pwhR37joyKLwwzUmHQ3HGFaVwV-UOFlZ2ijvogu4utMQ2-5xV66VuNMfB4ilfvFAXeGGo9dT-oI_sp8nuzMkH8y9LYtbjpG1AgZyQ?type=png)](https://mermaid.live/edit#pako:eNpVUEtrwzAM_itCpw2aXXbLYbCmaxhkbKw7LelBi5XYtLGM61BKkv8-p4E9dJK-F-gbsBbFmGJzlHOtyQco3isLcR7LQkhB_ry7v2vV1x6S5GHMOUAnli8jrG9ygZMW54xtbxfPehZBNhSzjCFoYw_TQmVX_6vlETZlQS6I2_9lPs4ywlNp3nSM_89oz9G1LRtKG0pq8pCRv0pwhR37joyKLwwzUmHQ3HGFaVwV-UOFlZ2ijvogu4utMQ2-5xV66VuNMfB4ilfvFAXeGGo9dT-oI_sp8nuzMkH8y9LYtbjpG1AgZyQ) -->"
   ]
  },
  {
   "cell_type": "markdown",
   "metadata": {
    "vscode": {
     "languageId": "plaintext"
    }
   },
   "source": [
    "## Union\n",
    "The next natural step is to look at where these regions overlap with potentially problematic areas, like for example groundwater resources.\n",
    "This is done by joining the sedimentary data with the soil class coverage. \n",
    "\n",
    "INSERT IMAGE OF UNION CULTIVSTED LAND AND GROUNDWATER 2"
   ]
  },
  {
   "cell_type": "markdown",
   "metadata": {},
   "source": [
    "We can also look at other interesting coverage types overlapping with the groudwater resources, like buildings and rivers."
   ]
  },
  {
   "cell_type": "markdown",
   "metadata": {},
   "source": [
    "INSERT IMAGE OF UNION FOR BUILDINGS AND RIVERS"
   ]
  },
  {
   "cell_type": "markdown",
   "metadata": {
    "vscode": {
     "languageId": "plaintext"
    }
   },
   "source": [
    "# Geological analysis"
   ]
  },
  {
   "cell_type": "markdown",
   "metadata": {},
   "source": [
    "## Elevation\n",
    "We can also look at the elevation of the region by adding the `elevation` layer to our map.\n",
    "\n",
    "INSERT ELEVATION MAP\n",
    "\n",
    "We can again drill into particular land types at different regions. \n",
    "We would expect most marine areas to have quite low elevation. \n",
    "Let's look at the elevation of marine areas in the Oslo municipality. \n",
    "To do so, we need to join the elevation data with the sediment data, then sort the elements based on the `HOYDE` attribute.\n",
    "\n",
    "INSERT TABLE SHOWING TOP ELEVATION WITH MARINE AREAS\\\n",
    "INSERT TABLE SHOWING LOW ELEVATION WITH MARINE AREAS"
   ]
  },
  {
   "cell_type": "markdown",
   "metadata": {},
   "source": [
    "## Area \n",
    "We can also look into how much area a particular land cover type occupies in the Oslo municipality.\n",
    "To do so we'll select by attribute a desired land cover type (for example using our `Cultivated field` distribution found in 2.1. \n",
    "We need to re-calculate the geometry for the `Area` column for this layer, since the previous areas were calcuated per object id without any \"arbitrary\" municipality boundaries.\n",
    "We can the calculate the area of the selected land cover type by summing the `Area` column.\n",
    "\n",
    "Alternatively, we could calculate this area statistic for _all_ land cover types in the Oslo municipality, using the `Summary Statistics` command.\n",
    "\n",
    "INSERT TABLE SHOWING AREA OF ALL LAND COVER TYPES"
   ]
  },
  {
   "cell_type": "markdown",
   "metadata": {
    "vscode": {
     "languageId": "plaintext"
    }
   },
   "source": [
    "### Union - area"
   ]
  },
  {
   "cell_type": "markdown",
   "metadata": {},
   "source": [
    "Sediment and cultivated fields"
   ]
  },
  {
   "cell_type": "markdown",
   "metadata": {},
   "source": [
    "Sediment and ground water "
   ]
  },
  {
   "cell_type": "markdown",
   "metadata": {},
   "source": []
  }
 ],
 "metadata": {
  "authors": [
   {
    "affiliation": "University of Oslo",
    "email": "pmhalvor@uio.no",
    "name": "Per Halvorsen"
   }
  ],
  "date": "2025-02-17",
  "language_info": {
   "name": "python"
  },
  "subtitle": "GEO4460",
  "title": "GIS-3 Vector Analysis"
 },
 "nbformat": 4,
 "nbformat_minor": 2
}
