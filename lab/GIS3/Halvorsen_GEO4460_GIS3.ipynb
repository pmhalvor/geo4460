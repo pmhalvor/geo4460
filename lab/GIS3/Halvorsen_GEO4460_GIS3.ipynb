{
 "cells": [
  {
   "cell_type": "markdown",
   "metadata": {},
   "source": [
    "[pmhalvor@uio.no](mailto:pmhalvor@uio.no) \\\n",
    "GEO4460         "
   ]
  },
  {
   "cell_type": "markdown",
   "metadata": {},
   "source": [
    "# Introduction  {-}\n",
    "\n",
    "In this paper, we will look into the sediment, soil, and bedrock charactistics of the Oslofjord area. \n",
    "The data used to build this analysis can be downloaded from Canvas ([GIS3 datafiles](https://uio.instructure.com/files/3198654/download?download_frd=1); requires login).\n",
    "The software used is ArcGIS Pro.\n",
    "\n",
    "Topics we will explore:\n",
    "\n",
    "- Distribution of cultivated fields in a specified municipality\n",
    "- Conflicting groundwater resources and cultivated land\n",
    "- Elevations that marine areas exist it\n",
    "- The land cover type (soil class) that dominates the selected municipality\n",
    "- Which sediments primarily dominates cultivated fields\n",
    "- Which sediments are typically found around groundwater resources\n",
    "\n"
   ]
  },
  {
   "cell_type": "markdown",
   "metadata": {},
   "source": [
    "# Load data"
   ]
  },
  {
   "cell_type": "markdown",
   "metadata": {},
   "source": [
    "## Municipality selection\n",
    "\n",
    "In order to get sedimentary, soil, and bedrock data, we need to load in the `GIS3.gdb` file to ArcGIS. \n",
    "\n",
    "\n",
    "As a preliminary tutorial exercise, we already explored the Bærum municipality ([link](https://uio.instructure.com/files/3198653/download?download_frd=1); requires login). \n",
    "Our current analysis will therefore expand on that research, looking into the neighboring Asker municipality.\n"
   ]
  },
  {
   "cell_type": "markdown",
   "metadata": {},
   "source": [
    "![Asker](img/asker.png)\n",
    "$$\n",
    "\\text{Figure 1: Asker municipality selection}\n",
    "$$\n",
    "\n"
   ]
  },
  {
   "cell_type": "markdown",
   "metadata": {},
   "source": [
    "\n",
    "\n",
    "The decision to explore Asker in this report was based on the coverage of the three layers we are analyzing. \n",
    "Our data on soil classes only exists for a small window around the Oslofjord area, rendering most of the other municipalities present in this region unsuitable for analysis with these data. \n",
    "\n",
    "Figure 1 shows the outline of the Asker municipality, the second largest municipality covered by our data behind Bærum.\n",
    "\n",
    "With the correct municipality selected by attributes in the `municipality_borders` dataset, we can clip out this region as a stand-alone layer. \n",
    "This will allow for municipalicty specific processing later. "
   ]
  },
  {
   "cell_type": "markdown",
   "metadata": {},
   "source": [
    "## Supplementary data \n",
    "\n",
    "We need to load the sediment, soil, and bedrock data layers to our map as well. \n",
    "Each dataset contains a set of labels specifying the different subcategories of each dataset. \n",
    "These are added to the map using the `Symbology -> Unique colors` command. \n",
    "\n",
    "Since we will only be focusing on Asker, we can clip that region out of each of the three dataset layers we've added to our map. \n",
    "The resulting color coded layers are shown in Figure 2, each with a legend specifying their corresponding subcategories."
   ]
  },
  {
   "cell_type": "markdown",
   "metadata": {},
   "source": [
    "![4_datasets](img/4_datasets.png)\n",
    "$$\n",
    "\\text{Figure 2: (B) Bedrock, (C) sediment, and (D) soil classes for the Asker municipality}\n",
    "$$\n"
   ]
  },
  {
   "cell_type": "markdown",
   "metadata": {},
   "source": [
    "# Methods\n",
    "\n",
    "This section outlines some simple operations we can do on our map layers to extract, join, and analyze the data present. \n",
    "\n"
   ]
  },
  {
   "cell_type": "markdown",
   "metadata": {},
   "source": [
    "## Selecting\n",
    "\n",
    "Let's start by extracting a single type of land cover in our minicipality. \n",
    "As we'll be looking into groundwater resources later, it might be interesting to see how much land in Oslo is used for agriculture.\n",
    "This is done using the `Select by Attributes` command on our soil-class data, where we select the `OBJTYPE` attribute and set it to `Dyrket mark`.\n",
    "A new layer can then be created from this selection, which we'll rename to `Cultivated fields`, as shown in Figure 2. \n",
    "\n",
    "![Cultivated fields](img/cultvated_fields.png)\n",
    "$$\n",
    "\\text{Figure 3: Cultivated fields in the Asker municipality}\n",
    "$$\n",
    "\n",
    "When looking at this layer alone (the organge fields in Figure 3), it's hard to see any real pattern to the distribution of cultivated fields.\n",
    "However, when overlaying some transparent elevation lines, we can see that these fields lie mainly on flat terrains, often at the bottom of valleys.\n",
    "\n",
    "In later steps, we'll see how other factors like the underlying bedrock and sediment types might influence the distribution of these fields.\n",
    "\n"
   ]
  },
  {
   "cell_type": "markdown",
   "metadata": {},
   "source": [
    "The steps taken to get from our `.gdb` files to the distribution of cultivated fields is outlined in the [flowchart](https://mermaid.live/edit#pako:eNqVklFvmzAQx7-KdS_dJBKlpGkSpFaipKo2jRKFaNI2-nCAE6wYjGyzlqX57nNwtpJpe9i92Hf3u_vbp9tDJnIKHmy4eM4KlJp8WiUVMea_26C3wUGOGlNUlDx8iMfDbZ6-J4PBLblbfbP5EmtyR3Mpst3TqbIDwl4-bCqWsRo504yqMyxe9LiY5qyklT4ngj4hGCcZR3XsYqnwSL3a-9FiymmmSdoSX2vJ0kbTt-Sj__nxJlJc2NAriXrNj_GTdBx02sFy_1ZrQS0ET8ULWdvzX2m_Qt4qpjpOkT-xAsuSShJwVtvUwR6RVbVOsDwNIPrrBKg6f3H0P4P4GK0W_mq9_rK8uVi0ckc1CVHuLn7N5b4nGTRcs--oaU42jPKc5EzZhkxURh4cMJ8pkeVmk7qBJaALWtIEPHPlbFvoBJLqYEBstIjbKgNPy4Y6IEWzLcAocWW8pjbrRhcMtxLL39Eaq69CnPng7eEFvPHIHV7O3MvZ9WQ-v3LH12MHWvBGBwd-dBWj4dza1J24k-nVbOqAWTItZGgXv9v_w0-EjexE) found in Firgure 4. \n",
    "\n",
    "\n",
    "![Flowchart](img/flowchart_cultivated_field.png)\n",
    "$$\n",
    "\\text{Figure 4: Flowchart outlining steps to get cultivated field distribution}\n",
    "$$"
   ]
  },
  {
   "cell_type": "markdown",
   "metadata": {},
   "source": [
    "<!-- [![](https://mermaid.ink/img/pako:eNqVUlFLwzAQ_ishL1PYfPGtMKFrRRS7jnYIan24NtctLG1Kkipl2383babrwBfzkrv7vvu-HLk9LSRD6tFSyK9iC8qQ5ySriT3-VQleCTMGBnLQSB4e09ubDcuvyWx2RxbJu8MraMgCmZLF7uPUORCiER61NS94A4IbjvqCloYjXoqMV1ibS0YwZkguSCFA9yqOFfWsg4v7k6LAwpC8I74xiuetwTO49F-W81gL6UoHEo_E-_rJOg0G72C1P_f6NYhOc03WUgpNeljwxuFHd8WuySXB6vT--M8BUF8axv-Z4ylOQj9Zr19X80nYqR0aEoHaTX7Guh9ZBq0w_BMMMlJyFIwwrp0gl7W1p1NaoaqAM7sIw7wZNVusMKOeDZnVzWhWHy0PWiPTri6oZ1SLU6pku9lSayS0zdrGLguGHDYKqt9qA_WblOfc_rGRKnJ7N6zf8Rs1IcgM?type=png)](https://mermaid.live/edit#pako:eNqVUlFLwzAQ_ishL1PYfPGtMKFrRRS7jnYIan24NtctLG1Kkipl2383babrwBfzkrv7vvu-HLk9LSRD6tFSyK9iC8qQ5ySriT3-VQleCTMGBnLQSB4e09ubDcuvyWx2RxbJu8MraMgCmZLF7uPUORCiER61NS94A4IbjvqCloYjXoqMV1ibS0YwZkguSCFA9yqOFfWsg4v7k6LAwpC8I74xiuetwTO49F-W81gL6UoHEo_E-_rJOg0G72C1P_f6NYhOc03WUgpNeljwxuFHd8WuySXB6vT--M8BUF8axv-Z4ylOQj9Zr19X80nYqR0aEoHaTX7Guh9ZBq0w_BMMMlJyFIwwrp0gl7W1p1NaoaqAM7sIw7wZNVusMKOeDZnVzWhWHy0PWiPTri6oZ1SLU6pku9lSayS0zdrGLguGHDYKqt9qA_WblOfc_rGRKnJ7N6zf8Rs1IcgM) -->\n",
    "\n",
    "<!-- [![](https://mermaid.ink/img/pako:eNpVUEtrwzAM_itCpw2aXXbLYbCmaxhkbKw7LelBi5XYtLGM61BKkv8-p4E9dJK-F-gbsBbFmGJzlHOtyQco3isLcR7LQkhB_ry7v2vV1x6S5GHMOUAnli8jrG9ygZMW54xtbxfPehZBNhSzjCFoYw_TQmVX_6vlETZlQS6I2_9lPs4ywlNp3nSM_89oz9G1LRtKG0pq8pCRv0pwhR37joyKLwwzUmHQ3HGFaVwV-UOFlZ2ijvogu4utMQ2-5xV66VuNMfB4ilfvFAXeGGo9dT-oI_sp8nuzMkH8y9LYtbjpG1AgZyQ?type=png)](https://mermaid.live/edit#pako:eNpVUEtrwzAM_itCpw2aXXbLYbCmaxhkbKw7LelBi5XYtLGM61BKkv8-p4E9dJK-F-gbsBbFmGJzlHOtyQco3isLcR7LQkhB_ry7v2vV1x6S5GHMOUAnli8jrG9ygZMW54xtbxfPehZBNhSzjCFoYw_TQmVX_6vlETZlQS6I2_9lPs4ywlNp3nSM_89oz9G1LRtKG0pq8pCRv0pwhR37joyKLwwzUmHQ3HGFaVwV-UOFlZ2ijvogu4utMQ2-5xV66VuNMfB4ilfvFAXeGGo9dT-oI_sp8nuzMkH8y9LYtbjpG1AgZyQ) -->"
   ]
  },
  {
   "cell_type": "markdown",
   "metadata": {
    "vscode": {
     "languageId": "plaintext"
    }
   },
   "source": [
    "## Union\n",
    "The next natural step is to look at where these regions overlap with potentially problematic areas, like for example groundwater resources.\n",
    "This is done by joining the sedimentary data with the soil class coverage, as shown in Figure 5. \n",
    "\n",
    "![Cultivated field groundwater](img/cultivated_field_groundwater.png)\n",
    "$$\n",
    "\\text{Figure 5: Cultivated fields and groundwater resources in the Asker municipality}\n",
    "$$\n",
    "\n",
    "Unfortunately, the region we are analyzing does not have much signifigant groundwater resources present. \n",
    "The few areas that do exist seem to overlap quite a bit with the cultivated fields, which might be problematic in terms of contamination. \n",
    "Contrarily, the fertile soil in these areas might be beneficial for agriculture, which could explain why these areas were initially designated for cultivation. \n",
    "\n",
    "The ratio of groundwater resources thats overlap with cultivated fields can be calculated by first finding the intersect of the two layers, then sum the area of the intersected layer using the `Summary Statistics` analysis tool.\n",
    "When running such a calcuations, it is important to remember to recalculate the geometry for the area of the layers after our clipping and joining operations, as these operations often change the remaining area of the layers.\n",
    "\n",
    "The resulting sum of the intersected area is $48283.71 \\text{m}^2$, which is $17.66\\%$ of the total area of the groundwater resources layer.\n",
    "This number was smaller than initially expected.\n",
    "Though, considering there is very little groundwater in general, the ratio makes sense. \n",
    "It only takes a few pockets of groundwater that don't overlap with cultivated fields to skew the ratio significantly.\n",
    "This faulty assumptions highlights how hard it is to estimate the total size of many small areas, which is why powerful analysis tools like ArcGIS Pro are so useful.\n"
   ]
  },
  {
   "cell_type": "markdown",
   "metadata": {},
   "source": [
    "<!-- We can also look at other interesting coverage types overlapping with the groudwater resources, like buildings and rivers. -->\n",
    "<!-- INSERT IMAGE OF UNION FOR BUILDINGS AND RIVERS -->\n"
   ]
  },
  {
   "cell_type": "markdown",
   "metadata": {
    "vscode": {
     "languageId": "plaintext"
    }
   },
   "source": [
    "<!-- # Geological analysis\n",
    "\n",
    "Moving on, we can look for other areas of land that might have been even better to use for agriculture.\n",
    "For example, it is well known that marine areas are often very fertile, since they are rich in nutrients due to the large amount of organic material that is deposited there.\n",
    "Or maybe there are certian types of underlying bedrock that are more suitable for agriculture, since they will naturally have a higher mineral content.\n",
    "If the above $17.66\\%$ of groundwater resources that overlap with cultivated fields is a problem, we might want to look for areas such as these to motivate a relocation of the fields. -->"
   ]
  },
  {
   "cell_type": "markdown",
   "metadata": {},
   "source": [
    "# Geological analysis\n",
    "\n",
    "Moving on, we can look for other areas of land that might have been even better to use for agriculture.\n",
    "For example, it is well known that marine areas are often very fertile, since they are rich in nutrients due to the large amount of organic material that is deposited there.\n",
    "Or maybe there are some types of bedrock that are more suitable for agriculture, since they will naturally have a higher mineral content.\n",
    "If the above $17.66\\%$ of groundwater resources that overlap with cultivated fields is a problem, we might want to look for areas such as these to motivate a relocation of the fields.\n",
    "\n",
    "## Elevation\n",
    "An interesting characteristic of Norway’s landscape is that Norway was once covered by the sea, which is one of the reasons why we find fertile agricultural land around the Oslofjord today. \n",
    "Marine sediments, rich in nutrients from organic material and fine-grained particles, were deposited in these areas and later uplifted, creating the basis for productive soils.\n",
    "This means that even areas that are at high elevations and far from the coast can still have relatively large concentrations of marine sediments present.\n",
    "\n",
    "To explore other fertile areas, let's start by examining the distribution of elevation in marine-influenced regions.\n",
    "\n",
    "INSERT ELEVATION MAP\n",
    "\n",
    "We can again drill into particular land types at different regions. \n",
    "We would expect most marine areas to have quite low elevation. \n",
    "Let's look at the elevation of marine areas in the Oslo municipality. \n",
    "To do so, we need to join the elevation data with the sediment data, then sort the elements based on the `HOYDE` attribute.\n",
    "\n",
    "INSERT TABLE SHOWING TOP ELEVATION WITH MARINE AREAS \\\n",
    "INSERT TABLE SHOWING LOW ELEVATION WITH MARINE AREAS"
   ]
  },
  {
   "cell_type": "markdown",
   "metadata": {},
   "source": [
    "## Area \n",
    "We can also look into how much area a particular land cover type occupies in the Oslo municipality.\n",
    "To do so we'll select by attribute a desired land cover type (for example using our `Cultivated field` distribution found in 2.1). \n",
    "We need to re-calculate the geometry for the `Area` column for this layer, since the previous areas were calcuated per object id without any \"arbitrary\" municipality boundaries.\n",
    "We can the calculate the area of the selected land cover type by summing the `Area` column.\n",
    "\n",
    "Alternatively, we could calculate this area statistic for _all_ land cover types in the Oslo municipality, using the `Summary Statistics` command.\n",
    "\n",
    "INSERT TABLE SHOWING AREA OF ALL LAND COVER TYPES"
   ]
  },
  {
   "cell_type": "markdown",
   "metadata": {
    "vscode": {
     "languageId": "plaintext"
    }
   },
   "source": [
    "### Union - area"
   ]
  },
  {
   "cell_type": "markdown",
   "metadata": {},
   "source": [
    "Sediment and cultivated fields"
   ]
  },
  {
   "cell_type": "markdown",
   "metadata": {},
   "source": [
    "Sediment and ground water "
   ]
  },
  {
   "cell_type": "markdown",
   "metadata": {},
   "source": []
  }
 ],
 "metadata": {
  "authors": [
   {
    "affiliation": "University of Oslo",
    "email": "pmhalvor@uio.no",
    "name": "Per Halvorsen"
   }
  ],
  "date": "2025-02-17",
  "kernelspec": {
   "display_name": ".venv",
   "language": "python",
   "name": "python3"
  },
  "language_info": {
   "codemirror_mode": {
    "name": "ipython",
    "version": 3
   },
   "file_extension": ".py",
   "mimetype": "text/x-python",
   "name": "python",
   "nbconvert_exporter": "python",
   "pygments_lexer": "ipython3",
   "version": "3.12.4"
  },
  "subtitle": "GEO4460",
  "title": "GIS-3 Vector Analysis"
 },
 "nbformat": 4,
 "nbformat_minor": 2
}
